{
 "cells": [
  {
   "cell_type": "markdown",
   "id": "9f6a5c4a",
   "metadata": {},
   "source": [
    "# Binary Diagnostic\n",
    "\n",
    "The analysis that follows pertains to the third day of the [Python Problem-Solving Bootcamp](https://mathspp.com/pythonbootcamp).\n",
    "\n",
    "In the analysis that follows you may be confronted with code that you do not understand, especially as you reach the end of the explanation of each part.\n",
    "\n",
    "If you find functions that you didn't know before, remember to [check the docs](https://docs.python.org/3/) for those functions and play around with them in the REPL.\n",
    "This is written to be increasing in difficulty (within each part of the problem), so it is understandable if it gets harder as you keep reading.\n",
    "That's perfectly fine, you don't have to understand everything _right now_, especially because I can't know for sure what _your level_ is."
   ]
  },
  {
   "cell_type": "markdown",
   "id": "01060078",
   "metadata": {},
   "source": [
    "## Part 1 problem statement\n",
    "\n",
    "(Adapted from [Advent of Code 2021, day 3](https://adventofcode.com/2021/day/3))\n",
    "\n",
    "You are given a list of binary numbers.\n",
    "You need to use the binary numbers in that list to generate two new binary numbers (called the **gamma rate** and the **epsilon rate**).\n",
    "\n",
    "Each bit in the gamma rate can be determined by finding the most common bit in the corresponding position of all numbers in the list.\n",
    "For example, given the following list:\n",
    "\n",
    "```txt\n",
    "00100\n",
    "11110\n",
    "10110\n",
    "10111\n",
    "10101\n",
    "01111\n",
    "00111\n",
    "11100\n",
    "10000\n",
    "11001\n",
    "00010\n",
    "01010\n",
    "```\n",
    "\n",
    "Considering only the first bit of each number, there are five `0` bits and seven `1` bits. Since the most common bit is `1`, the first bit of the gamma rate is `1`.\n",
    "\n",
    "The most common second bit of the numbers in the diagnostic report is `0`, so the second bit of the gamma rate is `0`.\n",
    "\n",
    "The most common value of the third, fourth, and fifth bits are `1`, `1`, and `0`, respectively, and so the final three bits of the gamma rate are `110`.\n",
    "\n",
    "So, the gamma rate is the binary number `10110`, or `22` **in decimal**.\n",
    "\n",
    "The epsilon rate is calculated in a similar way; rather than use the most common bit, the least common bit from each position is used. So, the epsilon rate is `01001`, or `9` **in decimal**. Multiplying the gamma rate (`22`) by the epsilon rate (`9`) gives `198`.\n",
    "\n",
    "**Use the binary numbers in your input list to calculate the gamma rate and epsilon rate, then multiply them together.** What do you get? (Be sure to represent your answer in decimal, not binary.)\n",
    "\n",
    "_Using the input file `03_binary_diagnostic.txt`, the result should be 749376._"
   ]
  },
  {
   "cell_type": "code",
   "execution_count": 1,
   "id": "8c32536d",
   "metadata": {},
   "outputs": [],
   "source": [
    "# IMPORTANT: Set this to the correct path for you!\n",
    "INPUT_FILE = \"03_binary_diagnostic.txt\""
   ]
  },
  {
   "cell_type": "markdown",
   "id": "2cf8831c",
   "metadata": {},
   "source": [
    "### Baseline solution\n",
    "\n",
    "For the baseline solution, what we want to do is read the whole file into memory.\n",
    "Then, for each of the columns, we go down the lines of the file counting how many zeroes and ones appear in that column.\n",
    "After we are done counting zeroes and ones for a given column, we update the gamma and epsilon rates:"
   ]
  },
  {
   "cell_type": "code",
   "execution_count": 5,
   "id": "d978fb42",
   "metadata": {},
   "outputs": [
    {
     "name": "stdout",
     "output_type": "stream",
     "text": [
      "749376\n"
     ]
    }
   ],
   "source": [
    "with open(INPUT_FILE, \"r\") as f:\n",
    "    lines = [line.strip() for line in f]\n",
    "\n",
    "gamma, epsilon = \"\", \"\"\n",
    "for col in range(len(lines[0])):\n",
    "    # Count zeroes and ones in this column:\n",
    "    zeroes, ones = 0, 0\n",
    "    for line in lines:\n",
    "        if line[col] == \"0\":\n",
    "            zeroes += 1\n",
    "        else:\n",
    "            ones += 1\n",
    "    # Update gamma and epsilon based on the most common bit:\n",
    "    if zeroes > ones:\n",
    "        gamma += \"0\"\n",
    "        epsilon += \"1\"\n",
    "    else:\n",
    "        gamma += \"1\"\n",
    "        epsilon += \"0\"\n",
    "        \n",
    "print(int(gamma, 2) * int(epsilon, 2))"
   ]
  },
  {
   "cell_type": "markdown",
   "id": "379e6720",
   "metadata": {},
   "source": [
    "Even though this solution doesn't use many advanced techniques, there is one thing that is **super** useful already:\n",
    "the built-in `int` can parse binary numbers:"
   ]
  },
  {
   "cell_type": "code",
   "execution_count": 6,
   "id": "17d67f81",
   "metadata": {},
   "outputs": [
    {
     "data": {
      "text/plain": [
       "5"
      ]
     },
     "execution_count": 6,
     "metadata": {},
     "output_type": "execute_result"
    }
   ],
   "source": [
    "int(\"101\", 2)"
   ]
  },
  {
   "cell_type": "markdown",
   "id": "64d6a076",
   "metadata": {},
   "source": [
    "That's something we will be using a lot, in here.\n",
    "\n",
    "Another thing that is worth pointing out is that, when we read the file, we used `.strip()` to get rid of the newline character `\"\\n\"` that comes in the end of each line when we use `.readlines()` on the file.\n",
    "\n",
    "Now we want to know how to improve our code.\n",
    "The first thing I do is wonder: what would I changed if the numbers in the problem changed a bit?\n",
    "For example, what would I do if the problem wanted us to count digits in hexadecimal, instead of binary?\n",
    "\n",
    "If we were dealing with hexadecimal digits (numbers `0` through `9` and letters `\"a\"` through `\"f\"`), then I wouldn't want to have 16 variables just for counting:"
   ]
  },
  {
   "cell_type": "code",
   "execution_count": 7,
   "id": "95b3a13a",
   "metadata": {},
   "outputs": [],
   "source": [
    "zeroes = ones = twos = threes = fours = fives = sixes = sevens = eights = nines = a = b = c = d = e = f = 0"
   ]
  },
  {
   "cell_type": "markdown",
   "id": "509eb771",
   "metadata": {},
   "source": [
    "That because, on top of this, I would need an `if` block with 16 branches!\n",
    "\n",
    "So, the first thing we want to do is improve the counting mechanism."
   ]
  },
  {
   "cell_type": "markdown",
   "id": "8ec56057",
   "metadata": {},
   "source": [
    "## Convenient counting\n",
    "\n",
    "Thankfully, we can do this with ease, we just need to use a container (something like a list or a dictionary) to hold the counting results.\n",
    "\n",
    "I tend to prefer dictionaries, because the key-value system makes it very easy to map any kind of value to its count:"
   ]
  },
  {
   "cell_type": "code",
   "execution_count": 10,
   "id": "3ea13ce2",
   "metadata": {},
   "outputs": [
    {
     "name": "stdout",
     "output_type": "stream",
     "text": [
      "749376\n"
     ]
    }
   ],
   "source": [
    "with open(INPUT_FILE, \"r\") as f:\n",
    "    lines = [line.strip() for line in f]\n",
    "\n",
    "gamma, epsilon = \"\", \"\"\n",
    "for col in range(len(lines[0])):\n",
    "    # Count zeroes and ones in this column:\n",
    "    counting = {\"0\": 0, \"1\": 0}\n",
    "    for line in lines:\n",
    "        counting[line[col]] += 1\n",
    "    # Update gamma and epsilon based on the most common bit:\n",
    "    if counting[\"0\"] > counting[\"1\"]:\n",
    "        gamma += \"0\"\n",
    "        epsilon += \"1\"\n",
    "    else:\n",
    "        gamma += \"1\"\n",
    "        epsilon += \"0\"\n",
    "        \n",
    "print(int(gamma, 2) * int(epsilon, 2))"
   ]
  },
  {
   "cell_type": "markdown",
   "id": "54e6f9d4",
   "metadata": {},
   "source": [
    "As you can see, this simplified the code a fair bit already.\n",
    "\n",
    "If you are wondering about the reason why I initialised the dictionary `counting` as `{\"0\": 0, \"1\": 0}` instead of `{}`, think about this:\n",
    "if `\"0\"` and `\"1\"` are not existing keys of the dictionary `counting`, the line `counting[line[col]] += 1` wouldn't work.\n",
    "We would have to write a an `if` statement to cover the first time we add something to the dictionary:"
   ]
  },
  {
   "cell_type": "code",
   "execution_count": 11,
   "id": "3956fc8a",
   "metadata": {},
   "outputs": [
    {
     "name": "stdout",
     "output_type": "stream",
     "text": [
      "749376\n"
     ]
    }
   ],
   "source": [
    "with open(INPUT_FILE, \"r\") as f:\n",
    "    lines = [line.strip() for line in f]\n",
    "\n",
    "gamma, epsilon = \"\", \"\"\n",
    "for col in range(len(lines[0])):\n",
    "    # Count zeroes and ones in this column:\n",
    "    counting = {}\n",
    "    for line in lines:\n",
    "        if line[col] not in counting:\n",
    "            counting[line[col]] = 0\n",
    "        counting[line[col]] += 1\n",
    "    # Update gamma and epsilon based on the most common bit:\n",
    "    if counting[\"0\"] > counting[\"1\"]:\n",
    "        gamma += \"0\"\n",
    "        epsilon += \"1\"\n",
    "    else:\n",
    "        gamma += \"1\"\n",
    "        epsilon += \"0\"\n",
    "        \n",
    "print(int(gamma, 2) * int(epsilon, 2))"
   ]
  },
  {
   "cell_type": "markdown",
   "id": "54e6d9d8",
   "metadata": {},
   "source": [
    "This is a common pattern in programming: you “look before you leap” (LBYL).\n",
    "In other words, you make sure you _can_ do what you wanted to do.\n",
    "In this case, you make sure the key exists before accessing that key in the dictionary.\n",
    "\n",
    "However, Python tends to follow another code style, that says it's “easier to ask forgiveness than permission” (EAFP).\n",
    "This code style suggests you should `try` to do what you want to do, and just fix the situation if you end up in trouble."
   ]
  },
  {
   "cell_type": "markdown",
   "id": "076e78d7",
   "metadata": {},
   "source": [
    "## EAFP versus LBYL\n",
    "\n",
    "In Python, specifically, this generally means contrasting a preventive `if` with a `try` block.\n",
    "For our example, something like this:"
   ]
  },
  {
   "cell_type": "code",
   "execution_count": 12,
   "id": "9f4028e4",
   "metadata": {},
   "outputs": [
    {
     "name": "stdout",
     "output_type": "stream",
     "text": [
      "749376\n"
     ]
    }
   ],
   "source": [
    "with open(INPUT_FILE, \"r\") as f:\n",
    "    lines = [line.strip() for line in f]\n",
    "\n",
    "gamma, epsilon = \"\", \"\"\n",
    "for col in range(len(lines[0])):\n",
    "    # Count zeroes and ones in this column:\n",
    "    counting = {}\n",
    "    for line in lines:\n",
    "        try:\n",
    "            counting[line[col]] += 1\n",
    "        except KeyError:\n",
    "            counting[line[col]] = 1\n",
    "    # Update gamma and epsilon based on the most common bit:\n",
    "    if counting[\"0\"] > counting[\"1\"]:\n",
    "        gamma += \"0\"\n",
    "        epsilon += \"1\"\n",
    "    else:\n",
    "        gamma += \"1\"\n",
    "        epsilon += \"0\"\n",
    "        \n",
    "print(int(gamma, 2) * int(epsilon, 2))"
   ]
  },
  {
   "cell_type": "markdown",
   "id": "640c4f1d",
   "metadata": {},
   "source": [
    "Using the EAFP approach is often the preferred way in Python, and this comparison was shown here for the sake of completeness.\n",
    "You can read more about the choice between EAFP and LBYL in [here](https://mathspp.com/blog/pydonts/eafp-and-lbyl-coding-styles).\n",
    "\n",
    "In our case, we can avoid the debate altogether by initialising the counting dictionary in the appropriate way, like was shown [above](#Convenient-counting)."
   ]
  },
  {
   "cell_type": "markdown",
   "id": "80ec2b2a",
   "metadata": {},
   "source": [
    "## Dictionary with default value\n",
    "\n",
    "This whole discussion about initialising the dictionary with the default values, versus using an `if` statement to ensure we can access the dictionary, versus a `try: ... except: ...` block, shows that in all three approaches we needed to give some default value to the dictionary.\n",
    "\n",
    "Wouldn't it be great if there was some version of `dict` that assumed a default value?\n",
    "Well, today is your lucky day, because there is!\n",
    "\n",
    "`defaultdict`, from the `collections` module, is what we want.\n",
    "`defaultdict` behaves just like a regular dictionary, except that you give it a “default value factory”: a function that returns the default values we care about.\n",
    "\n",
    "In our case, we see that the count of a digit we haven't seen before should be `0`, so we just need a function that returns `0` to use with `defaultdict`.\n",
    "As it turns out, `int` does the job:"
   ]
  },
  {
   "cell_type": "code",
   "execution_count": 13,
   "id": "cd149cce",
   "metadata": {},
   "outputs": [
    {
     "data": {
      "text/plain": [
       "0"
      ]
     },
     "execution_count": 13,
     "metadata": {},
     "output_type": "execute_result"
    }
   ],
   "source": [
    "int()"
   ]
  },
  {
   "cell_type": "markdown",
   "id": "9c66f2b1",
   "metadata": {},
   "source": [
    "Now, we can use `collections.defaultdict` to do the job:"
   ]
  },
  {
   "cell_type": "code",
   "execution_count": 15,
   "id": "d4f80234",
   "metadata": {},
   "outputs": [],
   "source": [
    "from collections import defaultdict\n",
    "olympic_medals = defaultdict(int)"
   ]
  },
  {
   "cell_type": "code",
   "execution_count": 16,
   "id": "59ebddc7",
   "metadata": {},
   "outputs": [
    {
     "data": {
      "text/plain": [
       "0"
      ]
     },
     "execution_count": 16,
     "metadata": {},
     "output_type": "execute_result"
    }
   ],
   "source": [
    "olympic_medals[\"Rodrigo\"]"
   ]
  },
  {
   "cell_type": "markdown",
   "id": "fe8231b0",
   "metadata": {},
   "source": [
    "Notice how, above, the dictionary knows that I have zero olympic medals (the default value for any human being), even though I never told the dictionary explicitly how many medals I have.\n",
    "\n",
    "We can use a similar thing for our counting:"
   ]
  },
  {
   "cell_type": "code",
   "execution_count": 17,
   "id": "6c8411f1",
   "metadata": {},
   "outputs": [
    {
     "name": "stdout",
     "output_type": "stream",
     "text": [
      "749376\n"
     ]
    }
   ],
   "source": [
    "from collections import defaultdict\n",
    "\n",
    "with open(INPUT_FILE, \"r\") as f:\n",
    "    lines = [line.strip() for line in f]\n",
    "\n",
    "gamma, epsilon = \"\", \"\"\n",
    "for col in range(len(lines[0])):\n",
    "    # Count zeroes and ones in this column:\n",
    "    counting = defaultdict(int)\n",
    "    for line in lines:\n",
    "        counting[line[col]] += 1\n",
    "    # Update gamma and epsilon based on the most common bit:\n",
    "    if counting[\"0\"] > counting[\"1\"]:\n",
    "        gamma += \"0\"\n",
    "        epsilon += \"1\"\n",
    "    else:\n",
    "        gamma += \"1\"\n",
    "        epsilon += \"0\"\n",
    "        \n",
    "print(int(gamma, 2) * int(epsilon, 2))"
   ]
  },
  {
   "cell_type": "markdown",
   "id": "32e50d86",
   "metadata": {},
   "source": [
    "In our case, because we only had two digits, initialising the dictionary by hand or using `defaultdict` was approximately the same work.\n",
    "`defaultdict` becomes more useful if we have a lot of different things we might want to count, or if we can't know in advance _what_ things will be counted.\n",
    "\n",
    "However, Python has an even _better_ way to count things:"
   ]
  },
  {
   "cell_type": "markdown",
   "id": "0f9d7749",
   "metadata": {},
   "source": [
    "## Counter\n",
    "\n",
    "The `collections` module has another useful tool for us: a `Counter`!\n",
    "A `Counter` does exactly what it says on the tin: it counts things:"
   ]
  },
  {
   "cell_type": "code",
   "execution_count": 20,
   "id": "b3bc3114",
   "metadata": {},
   "outputs": [
    {
     "name": "stdout",
     "output_type": "stream",
     "text": [
      "Counter({'i': 4, 's': 4, 'p': 2, 'M': 1})\n"
     ]
    }
   ],
   "source": [
    "from collections import Counter\n",
    "mississippi_letters = Counter(\"Mississippi\")\n",
    "print(mississippi_letters)"
   ]
  },
  {
   "cell_type": "markdown",
   "id": "8e9fa310",
   "metadata": {},
   "source": [
    "It behaves a lot like a dictionary:"
   ]
  },
  {
   "cell_type": "code",
   "execution_count": 22,
   "id": "290c753d",
   "metadata": {},
   "outputs": [
    {
     "data": {
      "text/plain": [
       "4"
      ]
     },
     "execution_count": 22,
     "metadata": {},
     "output_type": "execute_result"
    }
   ],
   "source": [
    "mississippi_letters[\"i\"]"
   ]
  },
  {
   "cell_type": "markdown",
   "id": "0d7afe0f",
   "metadata": {},
   "source": [
    "But it includes other useful methods, like the `most_common`:"
   ]
  },
  {
   "cell_type": "code",
   "execution_count": 23,
   "id": "6c1e7c81",
   "metadata": {},
   "outputs": [
    {
     "data": {
      "text/plain": [
       "[('i', 4), ('s', 4)]"
      ]
     },
     "execution_count": 23,
     "metadata": {},
     "output_type": "execute_result"
    }
   ],
   "source": [
    "mississippi_letters.most_common(2)"
   ]
  },
  {
   "cell_type": "markdown",
   "id": "23b8ea4b",
   "metadata": {},
   "source": [
    "`Counter`s also have a default value of `0`:"
   ]
  },
  {
   "cell_type": "code",
   "execution_count": 25,
   "id": "b8c3fa96",
   "metadata": {},
   "outputs": [
    {
     "data": {
      "text/plain": [
       "0"
      ]
     },
     "execution_count": 25,
     "metadata": {},
     "output_type": "execute_result"
    }
   ],
   "source": [
    "mississippi_letters[\"z\"]"
   ]
  },
  {
   "cell_type": "markdown",
   "id": "3f079b6c",
   "metadata": {},
   "source": [
    "Thus, we can replace our `defaultdict` with a `Counter`, _and_ make use of the `most_common` method:"
   ]
  },
  {
   "cell_type": "code",
   "execution_count": 28,
   "id": "9a2e3a22",
   "metadata": {},
   "outputs": [
    {
     "name": "stdout",
     "output_type": "stream",
     "text": [
      "749376\n"
     ]
    }
   ],
   "source": [
    "from collections import Counter\n",
    "\n",
    "with open(INPUT_FILE, \"r\") as f:\n",
    "    lines = [line.strip() for line in f]\n",
    "\n",
    "gamma, epsilon = \"\", \"\"\n",
    "for col in range(len(lines[0])):\n",
    "    # Count zeroes and ones in this column:\n",
    "    counting = Counter()\n",
    "    for line in lines:\n",
    "        counting[line[col]] += 1\n",
    "    # Update gamma and epsilon based on the most common bit:\n",
    "    bit, _ = counting.most_common(1)[0]\n",
    "    if bit == \"0\":\n",
    "        gamma += \"0\"\n",
    "        epsilon += \"1\"\n",
    "    else:\n",
    "        gamma += \"1\"\n",
    "        epsilon += \"0\"\n",
    "        \n",
    "print(int(gamma, 2) * int(epsilon, 2))"
   ]
  },
  {
   "cell_type": "markdown",
   "id": "99fe8008",
   "metadata": {},
   "source": [
    "If you are doing any sort of _counting_ in Python, you should automatically think about `Counter`!"
   ]
  },
  {
   "cell_type": "markdown",
   "id": "6ebdd9c0",
   "metadata": {},
   "source": [
    "## Counting the whole column\n",
    "\n",
    "What is annoying about this task is that we are asked to go through lines to count things in specific columns.\n",
    "If the columns were actually rows, counting would be much easier.\n",
    "In other words, it would be great if we could reformat the input, that looks like\n",
    "\n",
    "```txt\n",
    "111\n",
    "000\n",
    "101\n",
    "101\n",
    "111\n",
    "```\n",
    "\n",
    "into something that looks like\n",
    "\n",
    "```txt\n",
    "10111\n",
    "10001\n",
    "10111\n",
    "```\n",
    "\n",
    "If we do so, counting becomes _much_ easier.\n",
    "\n",
    "As it turns out, you can do this in a couple of ways.\n",
    "You can implement this transformation by hand, or you can use the `zip(*lines)` trick:"
   ]
  },
  {
   "cell_type": "code",
   "execution_count": 37,
   "id": "1669a8ed",
   "metadata": {},
   "outputs": [
    {
     "name": "stdout",
     "output_type": "stream",
     "text": [
      "[('1', '0', '1', '1', '1'), ('1', '0', '0', '0', '1'), ('1', '0', '1', '1', '1')]\n"
     ]
    }
   ],
   "source": [
    "lines = [\"111\", \"000\", \"101\", \"101\", \"111\"]\n",
    "print(list(zip(*lines)))"
   ]
  },
  {
   "cell_type": "markdown",
   "id": "9cab3aaa",
   "metadata": {},
   "source": [
    "This little trick would enable a solution like this:"
   ]
  },
  {
   "cell_type": "code",
   "execution_count": 38,
   "id": "c06752a1",
   "metadata": {},
   "outputs": [
    {
     "name": "stdout",
     "output_type": "stream",
     "text": [
      "749376\n"
     ]
    }
   ],
   "source": [
    "from collections import Counter\n",
    "\n",
    "with open(INPUT_FILE, \"r\") as f:\n",
    "    lines = [line.strip() for line in f]\n",
    "columns = zip(*lines)\n",
    "\n",
    "gamma, epsilon = \"\", \"\"\n",
    "for col in columns:\n",
    "    # Count zeroes and ones in this column:\n",
    "    counts = Counter(col)\n",
    "    bit, _ = counts.most_common(1)[0]\n",
    "    if bit == \"0\":\n",
    "        gamma += \"0\"\n",
    "        epsilon += \"1\"\n",
    "    else:\n",
    "        gamma += \"1\"\n",
    "        epsilon += \"0\"\n",
    "\n",
    "print(int(gamma, 2) * int(epsilon, 2))"
   ]
  },
  {
   "cell_type": "markdown",
   "id": "fe48b15e",
   "metadata": {},
   "source": [
    "The `zip(*rows)` trick is quite convenient from the programmer's point of view: we write little code and get a really nice transformation for free.\n",
    "However, this isn't really free: when we write `*lines` inside `zip`, it's as if we had written each and every single line inside `lines` as an argument to `zip`.\n",
    "\n",
    "For the `lines = [\"111\", \"000\", \"101\", \"101\", \"111\"]` example above, it's as if we had written"
   ]
  },
  {
   "cell_type": "code",
   "execution_count": 39,
   "id": "7fa39840",
   "metadata": {},
   "outputs": [
    {
     "data": {
      "text/plain": [
       "[('1', '0', '1', '1', '1'),\n",
       " ('1', '0', '0', '0', '1'),\n",
       " ('1', '0', '1', '1', '1')]"
      ]
     },
     "execution_count": 39,
     "metadata": {},
     "output_type": "execute_result"
    }
   ],
   "source": [
    "list(zip(\"111\", \"000\", \"101\", \"101\", \"111\"))"
   ]
  },
  {
   "cell_type": "markdown",
   "id": "677f2d2f",
   "metadata": {},
   "source": [
    "If our file becomes large, this might be something that Python can't handle.\n",
    "\n",
    "However, there are other ways in which we can improve our counting, and also handle large files:"
   ]
  },
  {
   "cell_type": "markdown",
   "id": "99acc238",
   "metadata": {},
   "source": [
    "## Swapping iteration order\n",
    "\n",
    "Imagine that you have a huge file.\n",
    "You can't hold all of it in memory, so you can't just do what we have been doing.\n",
    "So, if that's the case, how can we solve this?\n",
    "\n",
    "Instead of going column by column, and then line by line, we can swap the order of traversal:\n",
    "the outer loop can go over the lines, and the inner loop can go over the columns.\n",
    "\n",
    "For that to work, we just need to initialise as many `Counter` objects as needed, and then traverse the line:"
   ]
  },
  {
   "cell_type": "code",
   "execution_count": 42,
   "id": "f4017d50",
   "metadata": {},
   "outputs": [
    {
     "name": "stdout",
     "output_type": "stream",
     "text": [
      "749376\n"
     ]
    }
   ],
   "source": [
    "from collections import Counter\n",
    "\n",
    "counters = []\n",
    "with open(INPUT_FILE, \"r\") as f:\n",
    "    for line in f:\n",
    "        line = line.strip()\n",
    "        if not counters:\n",
    "            counters = [Counter() for _ in range(len(line))]\n",
    "        for counter, bit in zip(counters, line):\n",
    "            counter[bit] += 1\n",
    "\n",
    "gamma, epsilon = \"\", \"\"\n",
    "for counts in counters:\n",
    "    bit, _ = counts.most_common(1)[0]\n",
    "    if bit == \"0\":\n",
    "        gamma += \"0\"\n",
    "        epsilon += \"1\"\n",
    "    else:\n",
    "        gamma += \"1\"\n",
    "        epsilon += \"0\"\n",
    "\n",
    "print(int(gamma, 2) * int(epsilon, 2))"
   ]
  },
  {
   "cell_type": "markdown",
   "id": "3f925b3e",
   "metadata": {},
   "source": [
    "However, this introduced an asymmetry that I am not a fan of:\n",
    "the very first iteration has a special treatment, because that's when we initialise the list of empty counters.\n",
    "Can't we do this in any other way..?\n",
    "\n",
    "We can't know, beforehand, how many `Counter` objects we need, but we could go back to the `defaultdict` and use it to create default `Counter` objects when needed!\n",
    "So, instead of having a list of `Counter` objects, we have a dictionary, and each key would be the corresponding column:"
   ]
  },
  {
   "cell_type": "code",
   "execution_count": 46,
   "id": "53e6b166",
   "metadata": {},
   "outputs": [
    {
     "name": "stdout",
     "output_type": "stream",
     "text": [
      "749376\n"
     ]
    }
   ],
   "source": [
    "from collections import Counter, defaultdict\n",
    "\n",
    "counters = defaultdict(Counter)\n",
    "with open(INPUT_FILE, \"r\") as f:\n",
    "    for line in f:\n",
    "        line = line.strip()\n",
    "        for col, bit in enumerate(line):\n",
    "            counters[col][bit] += 1\n",
    "\n",
    "gamma, epsilon = \"\", \"\"\n",
    "for col in range(len(line)):\n",
    "    bit, _ = counters[col].most_common(1)[0]\n",
    "    if bit == \"0\":\n",
    "        gamma += \"0\"\n",
    "        epsilon += \"1\"\n",
    "    else:\n",
    "        gamma += \"1\"\n",
    "        epsilon += \"0\"\n",
    "\n",
    "print(int(gamma, 2) * int(epsilon, 2))"
   ]
  },
  {
   "cell_type": "markdown",
   "id": "f19940b0",
   "metadata": {},
   "source": [
    "Of course, at this point this is getting a bit too convoluted, no?\n",
    "I was getting a bit carried away.\n",
    "The idea is there, we are just doing it the wrong way."
   ]
  },
  {
   "cell_type": "markdown",
   "id": "45ae6bda",
   "metadata": {},
   "source": [
    "## Counting once with column information\n",
    "\n",
    "In fact, we can achieve the same effect with a single `Counter`.\n",
    "In order to do that, we just have to do a small modification.\n",
    "Instead of counting just the line, by itself, we pair up each bit with its column information.\n",
    "\n",
    "Suppose this is a line:"
   ]
  },
  {
   "cell_type": "code",
   "execution_count": 47,
   "id": "ff85fbf1",
   "metadata": {},
   "outputs": [],
   "source": [
    "line = \"1100110\""
   ]
  },
  {
   "cell_type": "markdown",
   "id": "7db93a53",
   "metadata": {},
   "source": [
    "If we feed it to a `Counter`, the `Counter` will count the zeroes and ones:"
   ]
  },
  {
   "cell_type": "code",
   "execution_count": 48,
   "id": "6148bfa6",
   "metadata": {},
   "outputs": [
    {
     "data": {
      "text/plain": [
       "Counter({'1': 4, '0': 3})"
      ]
     },
     "execution_count": 48,
     "metadata": {},
     "output_type": "execute_result"
    }
   ],
   "source": [
    "Counter(line)"
   ]
  },
  {
   "cell_type": "markdown",
   "id": "782547b8",
   "metadata": {},
   "source": [
    "This ignores completely the fact that each bit represents a different column.\n",
    "However, if we enumerate the line first, the `Counter` will understand that each bit comes from a different column:"
   ]
  },
  {
   "cell_type": "code",
   "execution_count": 49,
   "id": "f2dd42e0",
   "metadata": {},
   "outputs": [
    {
     "data": {
      "text/plain": [
       "Counter({(0, '1'): 1,\n",
       "         (1, '1'): 1,\n",
       "         (2, '0'): 1,\n",
       "         (3, '0'): 1,\n",
       "         (4, '1'): 1,\n",
       "         (5, '1'): 1,\n",
       "         (6, '0'): 1})"
      ]
     },
     "execution_count": 49,
     "metadata": {},
     "output_type": "execute_result"
    }
   ],
   "source": [
    "Counter(enumerate(line))"
   ]
  },
  {
   "cell_type": "markdown",
   "id": "ceada420",
   "metadata": {},
   "source": [
    "Now, if we have two different lines:"
   ]
  },
  {
   "cell_type": "code",
   "execution_count": 50,
   "id": "bf9e5207",
   "metadata": {},
   "outputs": [],
   "source": [
    "line1 = \"1100110\"\n",
    "line2 = \"1000111\""
   ]
  },
  {
   "cell_type": "markdown",
   "id": "54f1adce",
   "metadata": {},
   "source": [
    "we can use `Counter(enumerate(...))` to count the bits, column-wise, and then use addition to combine the counts of each line:"
   ]
  },
  {
   "cell_type": "code",
   "execution_count": 53,
   "id": "55bd6c25",
   "metadata": {},
   "outputs": [
    {
     "data": {
      "text/plain": [
       "Counter({(0, '1'): 2,\n",
       "         (1, '1'): 1,\n",
       "         (2, '0'): 2,\n",
       "         (3, '0'): 2,\n",
       "         (4, '1'): 2,\n",
       "         (5, '1'): 2,\n",
       "         (6, '0'): 1,\n",
       "         (1, '0'): 1,\n",
       "         (6, '1'): 1})"
      ]
     },
     "execution_count": 53,
     "metadata": {},
     "output_type": "execute_result"
    }
   ],
   "source": [
    "counts = Counter(enumerate(line1)) + Counter(enumerate(line2))\n",
    "counts"
   ]
  },
  {
   "cell_type": "markdown",
   "id": "78cea986",
   "metadata": {},
   "source": [
    "Now, if you want to know how often `\"1\"` showed up in column `4`, you can just do:"
   ]
  },
  {
   "cell_type": "code",
   "execution_count": 56,
   "id": "6429e7f7",
   "metadata": {},
   "outputs": [
    {
     "data": {
      "text/plain": [
       "2"
      ]
     },
     "execution_count": 56,
     "metadata": {},
     "output_type": "execute_result"
    }
   ],
   "source": [
    "counts[(4, \"1\")]"
   ]
  },
  {
   "cell_type": "markdown",
   "id": "4d142751",
   "metadata": {},
   "source": [
    "The correct result is `2` indeed because both `line1` and `line2` have a `\"1\"` in position `4`:"
   ]
  },
  {
   "cell_type": "code",
   "execution_count": 57,
   "id": "54bfdade",
   "metadata": {},
   "outputs": [
    {
     "data": {
      "text/plain": [
       "True"
      ]
     },
     "execution_count": 57,
     "metadata": {},
     "output_type": "execute_result"
    }
   ],
   "source": [
    "\"1\" == line1[4] == line2[4]"
   ]
  },
  {
   "cell_type": "markdown",
   "id": "651e91b0",
   "metadata": {},
   "source": [
    "Thus, we can update our solution.\n",
    "\n",
    "We just have to be careful with the way in which we build `gamma` and `epsilon` afterwards, because now our counting data has a different format:"
   ]
  },
  {
   "cell_type": "code",
   "execution_count": 4,
   "id": "722031df",
   "metadata": {},
   "outputs": [
    {
     "name": "stdout",
     "output_type": "stream",
     "text": [
      "Counter({(4, '0'): 531, (3, '1'): 521, (10, '1'): 518, (5, '0'): 517, (9, '1'): 516, (0, '1'): 511, (2, '1'): 511, (8, '1'): 511, (1, '1'): 510, (11, '1'): 510, (7, '1'): 510, (6, '1'): 502, (6, '0'): 498, (7, '0'): 490, (11, '0'): 490, (1, '0'): 490, (2, '0'): 489, (0, '0'): 489, (8, '0'): 489, (9, '0'): 484, (5, '1'): 483, (10, '0'): 482, (3, '0'): 479, (4, '1'): 469})\n",
      "749376\n"
     ]
    }
   ],
   "source": [
    "from collections import Counter, defaultdict\n",
    "\n",
    "counts = Counter()\n",
    "with open(INPUT_FILE, \"r\") as f:\n",
    "    for line in f:\n",
    "        counts += Counter(enumerate(line.strip()))\n",
    "print(counts)\n",
    "\n",
    "gamma, epsilon = \"\", \"\"\n",
    "for col in range(len(counts) // 2):\n",
    "    zeroes, ones = counts[(col, \"0\")], counts[(col, \"1\")]\n",
    "    if zeroes > ones:\n",
    "        gamma += \"0\"\n",
    "        epsilon += \"1\"\n",
    "    else:\n",
    "        gamma += \"1\"\n",
    "        epsilon += \"0\"\n",
    "\n",
    "print(int(gamma, 2) * int(epsilon, 2))"
   ]
  },
  {
   "cell_type": "markdown",
   "id": "d7138d62",
   "metadata": {},
   "source": [
    "Notice how the printed `Counter` contains the information about all columns, and about the zeroes and ones.\n",
    "In our `Counter` object, the counts from each column are all mixed together, but that is fine because we could access the specific results we wanted for each column.\n",
    "\n",
    "We have looked quite closely at the way we count the bits, but we haven't thought a lot about the way we build the final `gamma` and `epsilon` values."
   ]
  },
  {
   "cell_type": "markdown",
   "id": "2db44199",
   "metadata": {},
   "source": [
    "## Initialising gamma and epsilon\n",
    "\n",
    "For me, personally, what makes me think about a better way to define `gamma` and `epsilon` is the fact that we want to do such a simple thing: add a zero or a one to the binary representation of each, and yet, we have to write so much code to do it.\n",
    "\n",
    "And, to top it all off, there is such a nice symmetry here!\n",
    "Couldn't we exploit it?\n",
    "\n",
    "One thing we could do would be initialise `gamma` and `epsilon` to be filled with `\"0\"`s by default, and only assign the `\"1\"` when needed:"
   ]
  },
  {
   "cell_type": "code",
   "execution_count": 67,
   "id": "9e701362",
   "metadata": {},
   "outputs": [
    {
     "name": "stdout",
     "output_type": "stream",
     "text": [
      "749376\n"
     ]
    }
   ],
   "source": [
    "from collections import Counter, defaultdict\n",
    "\n",
    "counts = Counter()\n",
    "with open(INPUT_FILE, \"r\") as f:\n",
    "    for line in f:\n",
    "        counts += Counter(enumerate(line.strip()))\n",
    "\n",
    "line_len = len(counts) // 2\n",
    "gamma = [\"0\" for _ in range(line_len)]\n",
    "epsilon = gamma[::]\n",
    "for col in range(len(counts) // 2):\n",
    "    zeroes, ones = counts[(col, \"0\")], counts[(col, \"1\")]\n",
    "    if zeroes > ones:\n",
    "        epsilon[col] = \"1\"\n",
    "    else:\n",
    "        gamma[col] = \"1\"\n",
    "\n",
    "print(int(\"\".join(gamma), 2) * int(\"\".join(epsilon), 2))"
   ]
  },
  {
   "cell_type": "markdown",
   "id": "ad6c2fb6",
   "metadata": {},
   "source": [
    "This might look like an improvement, but I am personally not a fan of it.\n",
    "The initialisations look clunky."
   ]
  },
  {
   "cell_type": "markdown",
   "id": "ba42bac5",
   "metadata": {},
   "source": [
    "## Bitwise operations\n",
    "\n",
    "Another possibility would be to initialise `gamma` and `epsilon` to `0` and then manipulate the bits directly.\n",
    "In case you didn't know, Python has a series of [operations to manipulate bits](https://docs.python.org/3/reference/expressions.html#binary-arithmetic-operations), and some of them can come in handy.\n",
    "\n",
    "In particular, we care about the [left shifting operation](https://docs.python.org/3/reference/expressions.html#shifting-operations) and the [bitwise OR](https://en.wikipedia.org/wiki/Bitwise_operation).\n",
    "\n",
    "The shifting operation takes two numbers and adds zeroes to the end of the binary expansion of the left argument:"
   ]
  },
  {
   "cell_type": "code",
   "execution_count": 1,
   "id": "fa940287",
   "metadata": {},
   "outputs": [
    {
     "data": {
      "text/plain": [
       "'0b1000'"
      ]
     },
     "execution_count": 1,
     "metadata": {},
     "output_type": "execute_result"
    }
   ],
   "source": [
    "bin(0b1 << 3)"
   ]
  },
  {
   "cell_type": "code",
   "execution_count": 2,
   "id": "efdc135d",
   "metadata": {},
   "outputs": [
    {
     "data": {
      "text/plain": [
       "'0b101000'"
      ]
     },
     "execution_count": 2,
     "metadata": {},
     "output_type": "execute_result"
    }
   ],
   "source": [
    "bin(0b101 << 3)"
   ]
  },
  {
   "cell_type": "markdown",
   "id": "b777d595",
   "metadata": {},
   "source": [
    "The bitwise OR takes two numbers and compares them bit by bit, returning a new number with `1`s whenever there was at least a `1` on one side:"
   ]
  },
  {
   "cell_type": "code",
   "execution_count": 72,
   "id": "f70596a9",
   "metadata": {},
   "outputs": [
    {
     "data": {
      "text/plain": [
       "'0b1110'"
      ]
     },
     "execution_count": 72,
     "metadata": {},
     "output_type": "execute_result"
    }
   ],
   "source": [
    "bin(0b1100 | 0b1010)"
   ]
  },
  {
   "cell_type": "markdown",
   "id": "2bed50a9",
   "metadata": {},
   "source": [
    "With both combined, we can “turn on” a bit of a number.\n",
    "For example, here is how you convert `0b00000` to `0b10000`:"
   ]
  },
  {
   "cell_type": "code",
   "execution_count": 73,
   "id": "81a5ca73",
   "metadata": {},
   "outputs": [
    {
     "data": {
      "text/plain": [
       "'0b10000'"
      ]
     },
     "execution_count": 73,
     "metadata": {},
     "output_type": "execute_result"
    }
   ],
   "source": [
    "bin(0b00000 | (1 << 4))"
   ]
  },
  {
   "cell_type": "markdown",
   "id": "2c27b765",
   "metadata": {},
   "source": [
    "Take your time to understand what just happened.\n",
    "\n",
    "With this, we can build `gamma` and `epsilon` as integers:"
   ]
  },
  {
   "cell_type": "code",
   "execution_count": 81,
   "id": "ffcff388",
   "metadata": {},
   "outputs": [
    {
     "name": "stdout",
     "output_type": "stream",
     "text": [
      "749376\n"
     ]
    }
   ],
   "source": [
    "from collections import Counter, defaultdict\n",
    "\n",
    "counts = Counter()\n",
    "with open(INPUT_FILE, \"r\") as f:\n",
    "    for line in f:\n",
    "        counts += Counter(enumerate(line.strip()))\n",
    "\n",
    "gamma, epsilon = 0, 0\n",
    "total_bits = len(counts) // 2\n",
    "for col in range(total_bits):\n",
    "    if counts[(col, \"0\")] > counts[(col, \"1\")]:\n",
    "        epsilon |= 1 << (total_bits - col - 1)\n",
    "    else:\n",
    "        gamma |= 1 << (total_bits - col - 1)\n",
    "        \n",
    "print(gamma * epsilon)"
   ]
  },
  {
   "cell_type": "markdown",
   "id": "847eefc4",
   "metadata": {},
   "source": [
    "The left shift `<<` has a right argument of `total_bits - col - 1` because `col` is counting from `0`, but when `col` is small is when we want to shift a lot to the left, up to the leftmost column.\n",
    "\n",
    "For example, suppose we have"
   ]
  },
  {
   "cell_type": "code",
   "execution_count": 78,
   "id": "00c274db",
   "metadata": {},
   "outputs": [],
   "source": [
    "total_bits = 5\n",
    "col = 0"
   ]
  },
  {
   "cell_type": "markdown",
   "id": "1a484398",
   "metadata": {},
   "source": [
    "So, five columns and we are starting just now.\n",
    "\n",
    "When `col` is `0`, we want `1 << ...` to produce the binary number `0b10000`, which has `4` zeroes to its right.\n",
    "We get to the `4` by doing `total_bits - n`, and then `- 1` for a final adjustment:"
   ]
  },
  {
   "cell_type": "code",
   "execution_count": 80,
   "id": "1a1f83b1",
   "metadata": {
    "scrolled": true
   },
   "outputs": [
    {
     "data": {
      "text/plain": [
       "'0b10000'"
      ]
     },
     "execution_count": 80,
     "metadata": {},
     "output_type": "execute_result"
    }
   ],
   "source": [
    "bin(1 << (total_bits - col - 1))"
   ]
  },
  {
   "cell_type": "markdown",
   "id": "372b3317",
   "metadata": {
    "collapsed": true
   },
   "source": [
    "## Part 2 problem statement\n",
    "\n",
    "(Adapted from [Advent of Code 2021, day 3](https://adventofcode.com/2021/day/3))\n",
    "\n",
    "Next, you should find out the result of multiplying two new measures: the **oxygen generator rating** and the **CO2 scrubber rating**.\n",
    "\n",
    "Both the oxygen generator rating and the CO2 scrubber rating are values that can be found in your input list - finding them is the tricky part.\n",
    "Both values are located using a similar process that involves filtering out values until only one remains.\n",
    "Before searching for either rating value, start with the full list of binary numbers from your input list and consider just the first bit of those numbers. Then:\n",
    "\n",
    " - keep only numbers selected by the bit criteria for the type of rating value for which you are searching. Discard numbers which do not match the bit criteria;\n",
    " - if you only have one number left, stop; this is the rating value for which you are searching;\n",
    " - otherwise, repeat the process, considering the next bit to the right.\n",
    "\n",
    "The bit criteria depends on which type of rating value you want to find:\n",
    "\n",
    " - to find the **oxygen generator rating**, determine the most common value (`0` or `1`) in the current bit position, and keep only numbers with that bit in that position. If `0` and `1` are equally common, keep values with a `1` in the position being considered; and\n",
    " - to find the **CO2 scrubber rating**, determine the least common value (`0` or `1`) in the current bit position, and keep only numbers with that bit in that position. If `0` and `1` are equally common, keep values with a `0` in the position being considered.\n",
    "\n",
    "For example, to determine the oxygen generator rating value using the same example input list from above:\n",
    "\n",
    " - Start with all 12 numbers and consider only the first bit of each number. There are more `1` bits (7) than `0` bits (5), so keep only the 7 numbers with a `1` in the first position: `11110`, `10110`, `10111`, `10101`, `11100`, `10000`, and `11001`.\n",
    " - Then, consider the second bit of the 7 remaining numbers: there are more `0` bits (4) than `1` bits (3), so keep only the 4 numbers with a `0` in the second position: `10110`, `10111`, `10101`, and `10000`.\n",
    " - In the third position, three of the four numbers have a `1`, so keep those three: `10110`, `10111`, and `10101`.\n",
    " - In the fourth position, two of the three numbers have a `1`, so keep those two: `10110` and `10111`.\n",
    " - In the fifth position, there are an equal number of `0` bits and `1` bits (one each). So, to find the oxygen generator rating, keep the number with a `1` in that position: `10111`.\n",
    " - As there is only one number left, stop; the oxygen generator rating is `10111`, or `23` in decimal.\n",
    "\n",
    "Then, to determine the CO2 scrubber rating value from the same example above:\n",
    "\n",
    " - Start again with all 12 numbers and consider only the first bit of each number. There are fewer `0` bits (5) than `1` bits (7), so keep only the 5 numbers with a 0 in the first position: `00100`, `01111`, `00111`, `00010`, and `01010`.\n",
    " - Then, consider the second bit of the 5 remaining numbers: there are fewer `1` bits (2) than `0` bits (3), so keep only the 2 numbers with a `1` in the second position: `01111` and `01010`.\n",
    " - In the third position, there are an equal number of `0` bits and `1` bits (one each). So, to find the CO2 scrubber rating, keep the number with a `0` in that position: `01010`.\n",
    " - As there is only one number left, stop; the CO2 scrubber rating is `01010`, or `10` in decimal.\n",
    "\n",
    "Finally, to find the life support rating, multiply the oxygen generator rating (`23`) by the CO2 scrubber rating (`10`) to get `230`.\n",
    "\n",
    "**Use the binary numbers in your input list to calculate the oxygen generator rating and CO2 scrubber rating, then multiply them together**. What do you get? (Be sure to represent your answer in decimal, not binary.)\n",
    "\n",
    "_Using the input file `03_binary_diagnostic.txt`, the result should be 2372923._"
   ]
  },
  {
   "cell_type": "markdown",
   "id": "15752016",
   "metadata": {},
   "source": [
    "## Baseline solution\n",
    "\n",
    "For this problem, we need to do a similar counting process to the one above, so we will use the techniques we have seen.\n",
    "\n",
    "For our baseline solution, let's start by computing the oxygen generator rating:"
   ]
  },
  {
   "cell_type": "code",
   "execution_count": 19,
   "id": "173850f4",
   "metadata": {},
   "outputs": [
    {
     "name": "stdout",
     "output_type": "stream",
     "text": [
      "2372923\n"
     ]
    }
   ],
   "source": [
    "from collections import Counter\n",
    "\n",
    "with open(INPUT_FILE, \"r\") as f:\n",
    "    lines = f.readlines()\n",
    "bits = len(lines[0])\n",
    "    \n",
    "under_consideration = lines\n",
    "for col in range(bits):\n",
    "    if len(under_consideration) == 1:\n",
    "        break\n",
    "    \n",
    "    # Count 0s and 1s in the appropriate column.\n",
    "    counts = Counter(line[col] for line in under_consideration)\n",
    "    pick = \"0\" if counts[\"0\"] > counts[\"1\"] else \"1\"\n",
    "    under_consideration = [line for line in under_consideration if line[col] == pick]\n",
    "oxygen_rating = under_consideration[0]\n",
    "\n",
    "under_consideration = lines\n",
    "for col in range(bits):\n",
    "    if len(under_consideration) == 1:\n",
    "        break\n",
    "    \n",
    "    counts = Counter(line[col] for line in under_consideration)\n",
    "    pick = \"0\" if counts[\"0\"] <= counts[\"1\"] else \"1\"\n",
    "    under_consideration = [line for line in under_consideration if line[col] == pick]\n",
    "co2_rating = under_consideration[0]\n",
    "\n",
    "print(int(oxygen_rating, 2) * int(co2_rating, 2))"
   ]
  },
  {
   "cell_type": "markdown",
   "id": "1d5f257f",
   "metadata": {},
   "source": [
    "This solution is already quite good:\n",
    "\n",
    " - we use a `Counter` to count the bits;\n",
    " - we use a [conditional expression](https://mathspp.com/blog/pydonts/conditional-expressions) to decide what is the current bit we should pick; and\n",
    " - we use a [list comprehension](https://mathspp.com/blog/pydonts/list-comprehensions-101) to keep only the lines that matter.\n",
    "\n",
    "Now that we have some working code, we must look at it and figure out how we can improve it."
   ]
  },
  {
   "cell_type": "markdown",
   "id": "2c7f0c75",
   "metadata": {},
   "source": [
    "## DRY – Don't Repeat Yourself\n",
    "\n",
    "One thing I like to do is look for parts of the code that are structurally the same, and see if I can merge them in some way.\n",
    "In our code, we can see that computing the oxygen rating and the CO2 rating is the exact same thing; the only thing that changes is the way we pick the bit that matters:\n",
    "\n",
    "```py\n",
    "pick = \"0\" if counts[\"0\"] > counts[\"1\"] else \"1\"\n",
    "# vs\n",
    "pick = \"0\" if counts[\"0\"] <= counts[\"1\"] else \"1\"\n",
    "```\n",
    "\n",
    "And even then, these two lines are pretty similar.\n",
    "They have a condition that depends on `counts[\"1\"]` and `counts[\"0\"]`, and that's what is used to determine whether we pick a `\"1\"` or a `\"0\"` next.\n",
    "\n",
    "Therefore, we can write a function that does all this work.\n",
    "As arguments, the function accepts the initial list of lines, and a predicate function (a function returning a Boolean value) that determines whether we should pick `\"1\"` or not.\n",
    "\n",
    "For the oxygen rating, the predicate can look something like `lambda zeroes, ones: ones >= zeroes` and, for the CO2 rating, the predicate can look something like `lambda zeroes, ones: ones < zeroes`.\n",
    "Notice that these predicates need to have the same arguments, and they take into account the fact that the oxygen rating picks a `\"1\"` in case of draw, while the CO2 rating picks a `\"0\"` in case of draw.\n",
    "\n",
    "Here is a new version of the code:"
   ]
  },
  {
   "cell_type": "code",
   "execution_count": 20,
   "id": "66b19d7d",
   "metadata": {},
   "outputs": [
    {
     "name": "stdout",
     "output_type": "stream",
     "text": [
      "2372923\n"
     ]
    }
   ],
   "source": [
    "from collections import Counter\n",
    "\n",
    "with open(INPUT_FILE, \"r\") as f:\n",
    "    lines = f.readlines()\n",
    "\n",
    "def filter_by_count(lines, predicate):\n",
    "    bits = len(lines[0])\n",
    "    for col in range(bits):\n",
    "        if len(lines) == 1:\n",
    "            break\n",
    "        \n",
    "        counts = Counter(line[col] for line in lines)\n",
    "        pick = \"0\" if predicate(counts[\"0\"], counts[\"1\"]) else \"1\"\n",
    "        lines = [line for line in lines if line[col] == pick]\n",
    "\n",
    "    return lines[0]\n",
    "    \n",
    "oxygen_rating = filter_by_count(lines, lambda zeroes, ones: zeroes > ones)\n",
    "co2_rating = filter_by_count(lines, lambda zeroes, ones: zeroes <= ones)\n",
    "\n",
    "print(int(oxygen_rating, 2) * int(co2_rating, 2))"
   ]
  },
  {
   "cell_type": "markdown",
   "id": "7967fa63",
   "metadata": {},
   "source": [
    "Notice how the function body is _exactly the same_ as the two loops we had before, _except_ in the line that assigns `pick`."
   ]
  },
  {
   "cell_type": "markdown",
   "id": "b6c2ef2f",
   "metadata": {},
   "source": [
    "## Operators in place of lambdas\n",
    "\n",
    "Now I'd like to bring your attention to a small detail of the previous solution.\n",
    "We had to implement two small `lambda` functions, but all they do is make use of the appropriate comparison operator: `>` for the oxygen rating and `<=` for the CO2 rating.\n",
    "\n",
    "When everything we need from a `lambda` is to actually pass operands to a built-in operator, we should use the `operator` module.\n",
    "\n",
    "For example, `operator.gt` is the function equivalent of `>`:"
   ]
  },
  {
   "cell_type": "code",
   "execution_count": 21,
   "id": "4b9755cd",
   "metadata": {},
   "outputs": [],
   "source": [
    "from operator import gt"
   ]
  },
  {
   "cell_type": "code",
   "execution_count": 22,
   "id": "b49272cc",
   "metadata": {},
   "outputs": [
    {
     "data": {
      "text/plain": [
       "True"
      ]
     },
     "execution_count": 22,
     "metadata": {},
     "output_type": "execute_result"
    }
   ],
   "source": [
    "gt(3, 0)  # 3 > 0"
   ]
  },
  {
   "cell_type": "code",
   "execution_count": 24,
   "id": "f191d04e",
   "metadata": {},
   "outputs": [
    {
     "data": {
      "text/plain": [
       "False"
      ]
     },
     "execution_count": 24,
     "metadata": {},
     "output_type": "execute_result"
    }
   ],
   "source": [
    "gt(3, 5)  # 3 > 5"
   ]
  },
  {
   "cell_type": "markdown",
   "id": "73b27c6b",
   "metadata": {},
   "source": [
    "Likewise, `le` is the `<=` operator, so we can make use of them in our code:"
   ]
  },
  {
   "cell_type": "code",
   "execution_count": 26,
   "id": "9a679d54",
   "metadata": {},
   "outputs": [
    {
     "name": "stdout",
     "output_type": "stream",
     "text": [
      "2372923\n"
     ]
    }
   ],
   "source": [
    "from collections import Counter\n",
    "import operator\n",
    "\n",
    "with open(INPUT_FILE, \"r\") as f:\n",
    "    lines = f.readlines()\n",
    "\n",
    "def filter_by_count(lines, predicate):\n",
    "    bits = len(lines[0])\n",
    "    for col in range(bits):\n",
    "        if len(lines) == 1:\n",
    "            break\n",
    "        \n",
    "        counts = Counter(line[col] for line in lines)\n",
    "        pick = \"0\" if predicate(counts[\"0\"], counts[\"1\"]) else \"1\"\n",
    "        lines = [line for line in lines if line[col] == pick]\n",
    "\n",
    "    return lines[0]\n",
    "    \n",
    "oxygen_rating = filter_by_count(lines, operator.gt)\n",
    "co2_rating = filter_by_count(lines, operator.le)\n",
    "\n",
    "print(int(oxygen_rating, 2) * int(co2_rating, 2))"
   ]
  },
  {
   "cell_type": "markdown",
   "id": "e3d42c9a",
   "metadata": {},
   "source": [
    "By using `operator`, we no longer have the need to define two `lambda` functions by ourselves, simplifying our code.\n",
    "\n",
    "You can take a look at the [`operator` docs](https://docs.python.org/3/library/operator.html) to find out the names of the function equivalents of all the Python operators."
   ]
  },
  {
   "cell_type": "markdown",
   "id": "58d77e1b",
   "metadata": {},
   "source": [
    "## Conditional loop\n",
    "\n",
    "Our function `filter_by_count` exhibits the following pattern:\n",
    "\n",
    "```py\n",
    "for elem in iterable:\n",
    "    if condition:\n",
    "        break\n",
    "```\n",
    "\n",
    "This hints at the fact that maybe a `for` loop isn't the most appropriate loop here.\n",
    "In fact, a `while` loop might be a good option: `while` loops are very suitable for when there is a condition that determines when to stop looping.\n",
    "In our case, that condition is the fact that there is only one line left.\n",
    "\n",
    "So, why did we use a `for` loop instead of a `while` loop?\n",
    "Well, the fact is that the `for` loop is useful in order to keep track of the column we are in, but we could get rid of that if we introduced a `col` variable that we update by hand:"
   ]
  },
  {
   "cell_type": "code",
   "execution_count": 32,
   "id": "cda949c4",
   "metadata": {},
   "outputs": [
    {
     "name": "stdout",
     "output_type": "stream",
     "text": [
      "2372923\n"
     ]
    }
   ],
   "source": [
    "from collections import Counter\n",
    "import operator\n",
    "\n",
    "with open(INPUT_FILE, \"r\") as f:\n",
    "    lines = f.readlines()\n",
    "\n",
    "def filter_by_count(lines, predicate):\n",
    "    col = 0\n",
    "    while len(lines) > 1:\n",
    "        counts = Counter(line[col] for line in lines)\n",
    "        pick = \"0\" if predicate(counts[\"0\"], counts[\"1\"]) else \"1\"\n",
    "        lines = [line for line in lines if line[col] == pick]\n",
    "        col += 1\n",
    "\n",
    "    return lines[0]\n",
    "    \n",
    "oxygen_rating = filter_by_count(lines, operator.gt)\n",
    "co2_rating = filter_by_count(lines, operator.le)\n",
    "\n",
    "print(int(oxygen_rating, 2) * int(co2_rating, 2))"
   ]
  },
  {
   "cell_type": "markdown",
   "id": "e85a958c",
   "metadata": {},
   "source": [
    "However, we can do better than this!\n",
    "\n",
    "As the iterations progress, what we want to do to the “following” column is completely independent from the “previous” column.\n",
    "With that in mind, when we filter the lines for the next iteration, we can actually remove the current column.\n",
    "Doing this means that the column we need to look at, next, is the very first column again.\n",
    "\n",
    "If we do this, we no longer need `col`, and instead always index into the position `0` of the line.\n",
    "However, now we need to keep track of the bit choices we have made in a `prefix` variable:"
   ]
  },
  {
   "cell_type": "code",
   "execution_count": 33,
   "id": "4fac2278",
   "metadata": {},
   "outputs": [
    {
     "name": "stdout",
     "output_type": "stream",
     "text": [
      "2372923\n"
     ]
    }
   ],
   "source": [
    "from collections import Counter\n",
    "import operator\n",
    "\n",
    "with open(INPUT_FILE, \"r\") as f:\n",
    "    lines = f.readlines()\n",
    "\n",
    "def filter_by_count(lines, predicate):\n",
    "    prefix = \"\"\n",
    "    while len(lines) > 1:\n",
    "        counts = Counter(line[0] for line in lines)  # <- line[0] instead of line[col]\n",
    "        pick = \"0\" if predicate(counts[\"0\"], counts[\"1\"]) else \"1\"\n",
    "        prefix += pick\n",
    "        lines = [line[1:] for line in lines if line[0] == pick]  # <- same\n",
    "\n",
    "    return prefix + lines[0]  # re-add the prefix to the string we found\n",
    "    \n",
    "oxygen_rating = filter_by_count(lines, operator.gt)\n",
    "co2_rating = filter_by_count(lines, operator.le)\n",
    "\n",
    "print(int(oxygen_rating, 2) * int(co2_rating, 2))"
   ]
  },
  {
   "cell_type": "markdown",
   "id": "0f2791d6",
   "metadata": {},
   "source": [
    "## Recursive solution\n",
    "\n",
    "The two solutions above are _very_ similar, but one can argue that the second one (where we keep dropping the first column) is more natural for recursion.\n",
    "\n",
    "Let's turn the two solutions into recursive functions.\n",
    "\n",
    "To do that, the condition on the `while` loop becomes the base case for the recursive function.\n",
    "Then, all other statements remain the same, except we need to call the function recursively instead of updating the `prefix` or the `col` variables:"
   ]
  },
  {
   "cell_type": "code",
   "execution_count": 39,
   "id": "317bb059",
   "metadata": {},
   "outputs": [],
   "source": [
    "def filter_by_count_with_col(lines, predicate, col=0):\n",
    "    if len(lines) == 1:\n",
    "        return lines[0]\n",
    "    \n",
    "    counts = Counter(line[col] for line in lines)\n",
    "    pick = \"0\" if predicate(counts[\"0\"], counts[\"1\"]) else \"1\"\n",
    "    lines = [line for line in lines if line[col] == pick]\n",
    "    return filter_by_count_with_col(lines, predicate, col + 1)\n",
    "        \n",
    "\n",
    "def filter_by_count_with_prefix(lines, predicate):\n",
    "    if len(lines) == 1:\n",
    "        return lines[0]\n",
    "\n",
    "    counts = Counter(line[0] for line in lines)\n",
    "    pick = \"0\" if predicate(counts[\"0\"], counts[\"1\"]) else \"1\"\n",
    "    lines = [line[1:] for line in lines if line[0] == pick]\n",
    "    return pick + filter_by_count_with_prefix(lines, predicate)"
   ]
  },
  {
   "cell_type": "markdown",
   "id": "7d126d98",
   "metadata": {},
   "source": [
    "The one you pick is mostly a matter of personal preference; I tend to prefer the latter because there is one less argument to worry about.\n",
    "\n",
    "Recursion can be quite an elegant construct, from the mathematical point of view, but there are some drawbacks to using it in Python (unfortunately).\n",
    "\n",
    "One of them is related to memory costs.\n",
    "In fact, when we call the function recursively, all the memory that we are using at the current point in the function is kept around.\n",
    "Thus, as we go deep into the multiple levels of recursion, each single level is using up some memory to keep track of the variable `lines`, for example.\n",
    "This can be quite bad if the input list is very large.\n",
    "\n",
    "If you are curious about it, you can read a bit more about recursion in Python, and some of its unfortunate drawbacks, [here](https://mathspp.com/blog/pydonts/watch-out-for-recursion)."
   ]
  },
  {
   "cell_type": "markdown",
   "id": "ed5258e2",
   "metadata": {},
   "source": [
    "## Space-time complexity analysis\n",
    "\n",
    "Feel free to skip this if you couldn't care less.\n",
    "\n",
    "In order to analyse the space-time complexity of our solutions, we first need to identify the dimensions of the problem that matter.\n",
    "In our case, those are the number of bit patterns we have (the number of lines) that we will call $n$, and the number of columns, that we will call $k$.\n",
    "\n",
    "Up until now, most of our solutions (to both tasks) had a space complexity of $O(nk)$, because we stored _everything_ in memory.\n",
    "\n",
    "As for time complexity, this also isn't very complicated to estimate.\n",
    "Both the imperative and the recursive solutions have a main body that is $O(n)$ in time complexity, because it goes over the list of lines once.\n",
    "Then, the main body runs a couple of times, but it runs _at most_ once per column, so the total time complexity is also $O(nk)$.\n",
    "\n",
    "For the case of the CO2 rating, we can try to say something more, because at every step we reduce the number of lines being considered by half at least.\n",
    "Say you have a quantity $m$ that keeps getting reduced into half.\n",
    "This halving process will need $\\log_2 m$ steps to reduce $m$ to $1$.\n",
    "In a similar way, we can expect the CO2 rating to go from $n$ lines to $1$ line in $O(\\log_2 n)$ time.\n",
    "However, for our problem, we know that we will always get a single line after applying the filtering process over all the columns, even if $\\log_2 n$ is much larger than $k$.\n",
    "Thus, it might be more accurate to say that the time complexity is $O(nk)$ instead of saying $O(n\\log_2 n)$.\n",
    "\n",
    "Now, a question arises: can we solve this task in a more space-efficient manner?\n",
    "\n",
    "The answer is: _absolutely_.\n",
    "\n",
    "The content that follows is a bit more involved; feel free to skip it if you don't want to get into a deep discussion about space efficienty."
   ]
  },
  {
   "cell_type": "markdown",
   "id": "40846f52",
   "metadata": {},
   "source": [
    "## Space-efficient solution\n",
    "\n",
    "A space-efficient solution will revolve around a very important fact:\n",
    "we don't need to keep all the strings around.\n",
    "We only need to keep the counts of prefixes, and we can do that with a tree-like representation like the following:\n",
    "\n",
    "![](03_binary_trie.png)\n",
    "\n",
    "Looking at the figure above, the tree we see represents the counts of a total of"
   ]
  },
  {
   "cell_type": "code",
   "execution_count": 40,
   "id": "961c6ff5",
   "metadata": {},
   "outputs": [
    {
     "data": {
      "text/plain": [
       "28"
      ]
     },
     "execution_count": 40,
     "metadata": {},
     "output_type": "execute_result"
    }
   ],
   "source": [
    "0 + 3 + 1 + 8 + 1 + 6 + 5 + 4"
   ]
  },
  {
   "cell_type": "markdown",
   "id": "89039e7b",
   "metadata": {},
   "source": [
    "bit patterns.\n",
    "\n",
    "Imagine we are just starting out, and we need to determine how many zeroes and ones there are in the first column.\n",
    "We can figure out how many patterns start with a zero by looking at the top half of the tree ($0 + 3 + 1 + 8$) and we can figure out how many patterns start with a one by looking at the bottom half of the tree.\n",
    "\n",
    "Thus, if we build this structure when we first read the file, we get to save a lot of space:\n",
    "we only need to store one integer per each possible bit pattern, and there are $2^k$ bit patterns.\n",
    "(We are assuming that the number of lines $n$ is much larger than the number of possible bit patterns, $2^k$.)\n",
    "\n",
    "So, how can we represent this structure?\n",
    "\n",
    "We don't need to get very fancy, a dictionary with keys `\"0\"` and `\"1\"` will suffice!\n",
    "Let's call it a `tree_counter`.\n",
    "For example, here is the representation of the figure above:"
   ]
  },
  {
   "cell_type": "code",
   "execution_count": 2,
   "id": "5842ff56",
   "metadata": {},
   "outputs": [],
   "source": [
    "tree_counter = {\n",
    "    \"0\": {\n",
    "        \"0\": {\n",
    "            \"0\": 0,\n",
    "            \"1\": 3,\n",
    "        },\n",
    "        \"1\": {\n",
    "            \"0\": 1,\n",
    "            \"1\": 8,\n",
    "        },\n",
    "    },\n",
    "    \"1\": {\n",
    "        \"0\": {\n",
    "            \"0\": 1,\n",
    "            \"1\": 6,\n",
    "        },\n",
    "        \"1\": {\n",
    "            \"0\": 5,\n",
    "            \"1\": 4,\n",
    "        },\n",
    "    },\n",
    "}"
   ]
  },
  {
   "cell_type": "markdown",
   "id": "4c41d940",
   "metadata": {},
   "source": [
    "We just need some helper functions to deal with these structures:\n",
    "\n",
    " - a function that initialises a dictionary like this, with `k` levels of depth and all counts as `0`;\n",
    " - a function that takes a string and increases the count of the correct position; and\n",
    " - a function to sum all the counts in the given dictionary.\n",
    "\n",
    "Here is how we can initialise the empty structure:"
   ]
  },
  {
   "cell_type": "code",
   "execution_count": 3,
   "id": "a40c38e9",
   "metadata": {},
   "outputs": [],
   "source": [
    "def init_tree_dict(levels):\n",
    "    if not levels:\n",
    "        return 0\n",
    "\n",
    "    return {\n",
    "        \"0\": init_tree_dict(levels - 1),\n",
    "        \"1\": init_tree_dict(levels - 1),\n",
    "    }"
   ]
  },
  {
   "cell_type": "code",
   "execution_count": 4,
   "id": "c1d87cd5",
   "metadata": {},
   "outputs": [
    {
     "data": {
      "text/plain": [
       "{'0': {'0': {'0': 0, '1': 0}, '1': {'0': 0, '1': 0}},\n",
       " '1': {'0': {'0': 0, '1': 0}, '1': {'0': 0, '1': 0}}}"
      ]
     },
     "execution_count": 4,
     "metadata": {},
     "output_type": "execute_result"
    }
   ],
   "source": [
    "init_tree_dict(3)"
   ]
  },
  {
   "cell_type": "markdown",
   "id": "c5902d56",
   "metadata": {},
   "source": [
    "Now, we can define another recursive function that uses the argument string to navigate through the structure and increase the count associated with that string:"
   ]
  },
  {
   "cell_type": "code",
   "execution_count": 6,
   "id": "9a25972b",
   "metadata": {},
   "outputs": [],
   "source": [
    "def add_count(tree_dict, string):\n",
    "    if len(string) == 1:\n",
    "        tree_dict[string] += 1\n",
    "    else:\n",
    "        add_count(tree_dict[string[0]], string[1:])"
   ]
  },
  {
   "cell_type": "code",
   "execution_count": 8,
   "id": "7f7f5a5c",
   "metadata": {},
   "outputs": [
    {
     "name": "stdout",
     "output_type": "stream",
     "text": [
      "5\n",
      "6\n"
     ]
    }
   ],
   "source": [
    "print(tree_counter[\"1\"][\"1\"][\"1\"])  # How many times have we seen the string \"111\"?\n",
    "add_count(tree_counter, \"111\")      # Oh, hey, we just saw the string \"111\"!\n",
    "print(tree_counter[\"1\"][\"1\"][\"1\"])  # Now, how many times have we seen the string \"111\"?"
   ]
  },
  {
   "cell_type": "markdown",
   "id": "bae595fe",
   "metadata": {},
   "source": [
    "Finally, we write a function that goeso down the structure and adds up all counts:"
   ]
  },
  {
   "cell_type": "code",
   "execution_count": 9,
   "id": "d121789e",
   "metadata": {},
   "outputs": [
    {
     "name": "stdout",
     "output_type": "stream",
     "text": [
      "30\n"
     ]
    }
   ],
   "source": [
    "def add_up(tree_dict):\n",
    "    if isinstance(tree_dict, dict):\n",
    "        return sum(add_up(sub_dict) for sub_dict in tree_dict.values())\n",
    "    else:\n",
    "        return tree_dict\n",
    "\n",
    "print(add_up(tree_counter))  # It's 29 because we added a count just now."
   ]
  },
  {
   "cell_type": "markdown",
   "id": "196faa10",
   "metadata": {},
   "source": [
    "With this in place, we can write a nice space-efficient solution:"
   ]
  },
  {
   "cell_type": "code",
   "execution_count": 17,
   "id": "28c2ee7d",
   "metadata": {},
   "outputs": [
    {
     "name": "stdout",
     "output_type": "stream",
     "text": [
      "1000\n"
     ]
    }
   ],
   "source": [
    "def init_tree_dict(levels):\n",
    "    if not levels:\n",
    "        return 0\n",
    "\n",
    "    return {\n",
    "        \"0\": init_tree_dict(levels - 1),\n",
    "        \"1\": init_tree_dict(levels - 1),\n",
    "    }\n",
    "\n",
    "def add_count(tree_dict, string):\n",
    "    if len(string) == 1:\n",
    "        tree_dict[string] += 1\n",
    "    else:\n",
    "        add_count(tree_dict[string[0]], string[1:])\n",
    "\n",
    "def add_up(tree_dict):\n",
    "    if isinstance(tree_dict, dict):\n",
    "        return sum(add_up(sub_dict) for sub_dict in tree_dict.values())\n",
    "    else:\n",
    "        return tree_dict\n",
    "\n",
    "# Parse the file and fill the tree_counter.\n",
    "with open(INPUT_FILE, \"r\") as f:\n",
    "    # Take the first line to figure out the depth we need; assumes the file isn't empty.\n",
    "    first_line = next(f)\n",
    "    tree_counter = init_tree_dict(len(first_line.strip()))\n",
    "    f.seek(0)\n",
    "    for line in f:\n",
    "        add_count(tree_counter, line.strip())\n",
    "\n",
    "print(add_up(tree_counter))  # This tells us how many lines the file had."
   ]
  },
  {
   "cell_type": "markdown",
   "id": "66d4f7dc",
   "metadata": {},
   "source": [
    "This parses the file and builds up the count.\n",
    "\n",
    "**Challenge**:\n",
    "if you inspect `tree_counter`, you will see many positions are empty.\n",
    "They were initialised to be `0`, but they remained empty.\n",
    "Can you change the way `tree_counter` is defined, so that it only includes the positions that matter?\n",
    "\n",
    "Now, we just need to modify the `filter_by_count` function to accept something like the `tree_counter` instead of all of the lines of the file.\n",
    "Then, we keep going through the tree structure, until we reach the end of the dictionary:"
   ]
  },
  {
   "cell_type": "code",
   "execution_count": 22,
   "id": "10dede81",
   "metadata": {},
   "outputs": [
    {
     "name": "stdout",
     "output_type": "stream",
     "text": [
      "2353568\n"
     ]
    }
   ],
   "source": [
    "def filter_by_count(tree_counter, predicate):\n",
    "    prefix = \"\"\n",
    "    while isinstance(tree_counter, dict):\n",
    "        zeroes, ones = add_up(tree_counter[\"0\"]), add_up(tree_counter[\"1\"])\n",
    "        pick = \"0\" if predicate(zeroes, ones) else \"1\"\n",
    "        prefix += pick\n",
    "        tree_counter = tree_counter[pick]\n",
    "    return prefix\n",
    "    \n",
    "oxygen_rating = filter_by_count(tree_counter, operator.gt)\n",
    "co2_rating = filter_by_count(tree_counter, operator.le)\n",
    "\n",
    "print(int(oxygen_rating, 2) * int(co2_rating, 2))"
   ]
  },
  {
   "cell_type": "markdown",
   "id": "6d1e7977",
   "metadata": {},
   "source": [
    "But this answer is wrong!\n",
    "\n",
    "Why?\n",
    "Because the `co2_rating` variable is being computed in the wrong way!\n",
    "The problem statement tells us to consider the patterns available, but our new function is also taking into account patterns that don't exist, and if a pattern doesn't exist, it's count is always 0!\n",
    "\n",
    "Therefore, when we assign to `pick`, we need to make sure that we only assign `\"0\"` to `pick` if the count of zeroes is strictly greater than 0.\n",
    "Similarly, we _need_ to assign `\"0\"` to `pick` if the count of ones is 0.\n",
    "\n",
    "To better understand what I mean, take a look at the figure below:\n",
    "\n",
    "![](03_binary_trie_co2.png)\n",
    "\n",
    "If we are computing the variable `co2_rating`, then we always choose the path with smallest number.\n",
    "When we do that, we end up picking the path to the pattern `\"000\"`, even though that pattern doesn't exist!\n",
    "Therefore, to prevent those things from happening, we have to add a couple of additional checks:\n",
    "\n",
    " - if the predicate function returns `True`, we assign `\"0\"` to `pick`, **but** we must also make sure that the variable `zeroes` is greater than 0, to prevent picking a path with no patterns;\n",
    " - similarly, we **have** to assign `\"0\"` to `pick` if `ones == 0`, because that means there is no pattern down that road.\n",
    "\n",
    "Here is the modified conditional expression:"
   ]
  },
  {
   "cell_type": "code",
   "execution_count": 32,
   "id": "f0cac574",
   "metadata": {},
   "outputs": [
    {
     "name": "stdout",
     "output_type": "stream",
     "text": [
      "2372923\n"
     ]
    }
   ],
   "source": [
    "def filter_by_count(tree_counter, predicate):\n",
    "    prefix = \"\"\n",
    "    while isinstance(tree_counter, dict):\n",
    "        zeroes, ones = add_up(tree_counter[\"0\"]), add_up(tree_counter[\"1\"])\n",
    "        # Ensure we go down a path with existing patterns:\n",
    "        pick = \"0\" if predicate(zeroes, ones) and zeroes > 0 or ones == 0 else \"1\"\n",
    "        prefix += pick\n",
    "        tree_counter = tree_counter[pick]\n",
    "    return prefix\n",
    "    \n",
    "oxygen_rating = filter_by_count(tree_counter, operator.gt)\n",
    "co2_rating = filter_by_count(tree_counter, operator.le)\n",
    "\n",
    "print(int(oxygen_rating, 2) * int(co2_rating, 2))"
   ]
  },
  {
   "cell_type": "markdown",
   "id": "7ce0035f",
   "metadata": {},
   "source": [
    "This representation of the patterns is smaller because the many lines of input don't need to be represented in full: instead, the patterns that have a similar prefix can share that information in the structure.\n",
    "\n",
    "This representation was heavily influenced by a data structure that is called a [_trie_](https://en.wikipedia.org/wiki/Trie), sometimes also referred to as a _prefix tree_.\n",
    "\n",
    "In terms of space, holding everything in memory was $O(nk)$.\n",
    "With this structure, we have something that is $O(2^k)$, which is supposed to match $O(n)$ roughly.\n",
    "However, we have no guarantee that this is the case.\n",
    "In order to guarantee that our space representation is actually $O(n)$, we have to solve the challenge from above."
   ]
  },
  {
   "cell_type": "markdown",
   "id": "f050c66b",
   "metadata": {},
   "source": [
    "## Linear space\n",
    "\n",
    "If we want to make sure we use only the exact space we need, we can use `defaultdict` again to populate the dictionary automatically for us.\n",
    "This means we have to refactor our helper functions slightly:"
   ]
  },
  {
   "cell_type": "code",
   "execution_count": 55,
   "id": "03919b6d",
   "metadata": {},
   "outputs": [],
   "source": [
    "from collections import defaultdict\n",
    "\n",
    "def new_tree_dict():\n",
    "    return defaultdict(new_tree_dict)    # <- Recursive defaultdict structure;\n",
    "                                         # this builds the dictionary as needed.\n",
    "\n",
    "def add_count(tree_dict, string):\n",
    "    if len(string) == 1:\n",
    "        # Ensure we can increment the count by setting the default value to 0.\n",
    "        tree_dict.setdefault(string, 0)\n",
    "        tree_dict[string] += 1\n",
    "    else:\n",
    "        add_count(tree_dict[string[0]], string[1:])\n",
    "\n",
    "def add_up(tree_dict):\n",
    "    if isinstance(tree_dict, dict):\n",
    "        return sum(add_up(sub_dict) for sub_dict in tree_dict.values())\n",
    "    else:\n",
    "        return tree_dict\n",
    "\n",
    "tree_counter = new_tree_dict()\n",
    "with open(INPUT_FILE, \"r\") as f:\n",
    "    # No longer need to peek at the first line of f.\n",
    "    for line in f:\n",
    "        add_count(tree_counter, line.strip())"
   ]
  },
  {
   "cell_type": "markdown",
   "id": "16a096f3",
   "metadata": {},
   "source": [
    "After we do this, we fix the function `filter_by_count` and we are good to go.\n",
    "\n",
    "The “fix” is simple: we just need to use the `.get` function instead of accessing the `tree_counter` directly.\n",
    "Why do we do this?\n",
    "We do this so that the `tree_counter` doesn't grow if we try to access a path that isn't holding any patterns."
   ]
  },
  {
   "cell_type": "code",
   "execution_count": 57,
   "id": "039bef5f",
   "metadata": {},
   "outputs": [
    {
     "name": "stdout",
     "output_type": "stream",
     "text": [
      "2372923\n"
     ]
    }
   ],
   "source": [
    "def filter_by_count(tree_counter, predicate):\n",
    "    prefix = \"\"\n",
    "    while isinstance(tree_counter, dict):\n",
    "        zeroes, ones = add_up(tree_counter.get(\"0\", 0)), add_up(tree_counter.get(\"1\", 0))\n",
    "        pick = \"0\" if predicate(zeroes, ones) and zeroes > 0 or ones == 0 else \"1\"\n",
    "        prefix += pick\n",
    "        tree_counter = tree_counter[pick]\n",
    "    return prefix\n",
    "    \n",
    "oxygen_rating = filter_by_count(tree_counter, operator.gt)\n",
    "co2_rating = filter_by_count(tree_counter, operator.le)\n",
    "\n",
    "print(int(oxygen_rating, 2) * int(co2_rating, 2))"
   ]
  },
  {
   "cell_type": "markdown",
   "id": "90f2d1ad",
   "metadata": {},
   "source": [
    "This solution is now $O(n)$ in terms of space, because the dictionary only has entries for the patterns that actually exist.\n",
    "\n",
    "It takes up less space than holding all the patterns because the patterns are sharing all their prefixes."
   ]
  },
  {
   "cell_type": "markdown",
   "id": "0a6311d3",
   "metadata": {},
   "source": [
    "## Conclusion\n",
    "\n",
    "Even simple-looking problems can reveal much more depth to it, if you try to come up with increasingly efficient solutiosn.\n",
    "Of course, in the real world you have to find a balance between how much time you spend coding and the performance benefits you get.\n",
    "\n",
    "For example, in this particular case, I spent some hours thinking about these space-efficient solutions, but I gained very little: my computer could crack the problem with the less efficient solution in _literally_ the blink of an eye and it could hold everything in memory, so I'm not really gaining anything by implementing a more efficient solution.\n",
    "\n",
    "If you have any questions, suggestions, remarks, recommendations, corrections, or anything else, you can reach out to me [on Twitter](https://twitter.com/mathsppblog) or via email to rodrigo at mathspp dot com."
   ]
  },
  {
   "cell_type": "code",
   "execution_count": null,
   "id": "630cc252",
   "metadata": {},
   "outputs": [],
   "source": []
  }
 ],
 "metadata": {
  "kernelspec": {
   "display_name": "Python 3 (ipykernel)",
   "language": "python",
   "name": "python3"
  },
  "language_info": {
   "codemirror_mode": {
    "name": "ipython",
    "version": 3
   },
   "file_extension": ".py",
   "mimetype": "text/x-python",
   "name": "python",
   "nbconvert_exporter": "python",
   "pygments_lexer": "ipython3",
   "version": "3.10.0"
  },
  "toc": {
   "base_numbering": 1,
   "nav_menu": {},
   "number_sections": false,
   "sideBar": true,
   "skip_h1_title": true,
   "title_cell": "Table of Contents",
   "title_sidebar": "Contents",
   "toc_cell": false,
   "toc_position": {},
   "toc_section_display": true,
   "toc_window_display": true
  }
 },
 "nbformat": 4,
 "nbformat_minor": 5
}
